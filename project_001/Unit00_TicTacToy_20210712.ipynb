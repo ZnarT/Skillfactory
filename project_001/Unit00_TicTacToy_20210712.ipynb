{
 "cells": [
  {
   "cell_type": "markdown",
   "id": "2acfde89",
   "metadata": {},
   "source": [
    "Над проектом работал: Артём Знаменский\n",
    "Написать: artem.znamenskii@yandex.ru\n",
    "    \n",
    "    \n",
    "ЮНИТ 0. Введение в Data Science > \n",
    "PYTHON-Итог.Задачи по пройдемнным темам. > \n",
    "6. Итоговое практическое задание\n",
    "    \n",
    "    \n",
    "###    БАЗОВЫЕ ЗАДАЧИ:\n",
    "\n",
    "    Плюс напротив задачи значит, что задача выполнина.\n",
    "    + 1. Разработать игру \"Крестики-нолики\";\n",
    "    + 2. Размер игрового поля 3x3;\n",
    "    + 3. Вывод игры должен осуществляться в консоль;\n",
    "    + 4. В коде игры должны применяться \"форматированные строки\".\n",
    "      \n",
    "###    РЕАЛИЗОВАНЫЕ ЗАДАЧИ\n",
    "    \n",
    "    1. Приём и запоминание имён игроков;\n",
    "    2. Обращение по именам к игрокам в момент их хода;\n",
    "    3. Принимает координаты ячейки, \n",
    "       в которую игрок хочет поставить симовол;\n",
    "    4. Проверяет координаты (входят ли координаты в игровое поле,\n",
    "       не занята символом ли ячейка по данному адресу)\n",
    "           "
   ]
  },
  {
   "cell_type": "code",
   "execution_count": null,
   "id": "dbe03fc9",
   "metadata": {
    "scrolled": false
   },
   "outputs": [
    {
     "name": "stdout",
     "output_type": "stream",
     "text": [
      "Введите имя игрока, который будет ходить первым: "
     ]
    }
   ],
   "source": [
    "#----------------------------------------------------------------------#\n",
    "def game_core():\n",
    "    \n",
    "    # Знакомство с игроками\n",
    "    print(\"Введите имя игрока, который будет ходить первым:\", end = \" \")\n",
    "    player_X = input()\n",
    "    print(\"Введите имя игрока, который будет ходить вторым:\", end = \" \")\n",
    "    player_O = input()    \n",
    "    \n",
    "    # Создание игрового поля и осей 'X' и 'Y'\n",
    "    ox,oy = 3,3\n",
    "    \n",
    "    field = [[\"•\" for x in range(ox)] for y in range(oy)]\n",
    "    \n",
    "    list(map(lambda line_oy, y: \n",
    "             line_oy.insert(0,str(y+1)), \n",
    "             field, range(oy)))\n",
    "    \n",
    "    line_ox = [str(x+1) for x in range(ox)]\n",
    "    line_ox.insert(0,\" \")\n",
    "    \n",
    "    field.insert(0,line_ox)\n",
    "        \n",
    "    # Игрок, который в данный момент совершает ход\n",
    "    active_player = None\n",
    "    \n",
    "    # Игроки поочерёдно делают ходы\n",
    "    for move in range(ox*oy):\n",
    "\n",
    "        # Передача инициативы другому игроку и смена знака\n",
    "        active_player = player_O if active_player == player_X else player_X\n",
    "        sign = \"X\" if active_player == player_X else \"O\"\n",
    "        \n",
    "        print(f\"Ходит {active_player}.\",\n",
    "              \"Укажите координаты хода, через запятую:\",\n",
    "              end = \" \")\n",
    "        \n",
    "        while True:\n",
    "\n",
    "            x, y = map(int, input().split(\",\"))\n",
    "            \n",
    "            if not (1 <= x <= ox) or not (1 <= y <= oy):\n",
    "                print(\"Вы указали неверные координаты!\",\n",
    "                      \"Введите другие координаты:\", end = \" \")\n",
    "            elif field[y][x] != \"•\":\n",
    "                print(\"Это поле занято!\",\n",
    "                      \"Введите координаты заново:\", end = \" \")\n",
    "            else: break    \n",
    "        \n",
    "        # Фиксирование хода на игровом поле\n",
    "        field[y].pop(x)\n",
    "        field[y].insert(x, sign)\n",
    "            \n",
    "        # Отображение игрового поля и осей 'X' и 'Y'\n",
    "        for y_ in range(oy+1):\n",
    "            print(\" \".join(field[y_]),\" \")\n",
    "            \n",
    "            \n",
    "#---------------- START GAME ------------------------------------------#\n",
    "game_core()"
   ]
  }
 ],
 "metadata": {
  "kernelspec": {
   "display_name": "Python 3",
   "language": "python",
   "name": "python3"
  },
  "language_info": {
   "codemirror_mode": {
    "name": "ipython",
    "version": 3
   },
   "file_extension": ".py",
   "mimetype": "text/x-python",
   "name": "python",
   "nbconvert_exporter": "python",
   "pygments_lexer": "ipython3",
   "version": "3.8.8"
  }
 },
 "nbformat": 4,
 "nbformat_minor": 5
}
